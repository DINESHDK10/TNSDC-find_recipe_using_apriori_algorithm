{
  "cells": [
    {
      "cell_type": "markdown",
      "metadata": {
        "papermill": {
          "duration": 0.015495,
          "end_time": "2021-01-08T23:17:30.012814",
          "exception": false,
          "start_time": "2021-01-08T23:17:29.997319",
          "status": "completed"
        },
        "tags": [],
        "id": "5FhqhmjjLIzA"
      },
      "source": [
        "# Find recipe using Apriori algorithm"
      ]
    },
    {
      "cell_type": "code",
      "execution_count": 8,
      "metadata": {
        "_cell_guid": "b1076dfc-b9ad-4769-8c92-a6c4dae69d19",
        "_uuid": "8f2839f25d086af736a60e9eeb907d3b93b6e0e5",
        "execution": {
          "iopub.execute_input": "2021-01-08T23:17:30.046707Z",
          "iopub.status.busy": "2021-01-08T23:17:30.046093Z",
          "iopub.status.idle": "2021-01-08T23:17:30.054215Z",
          "shell.execute_reply": "2021-01-08T23:17:30.053535Z"
        },
        "papermill": {
          "duration": 0.028061,
          "end_time": "2021-01-08T23:17:30.054325",
          "exception": false,
          "start_time": "2021-01-08T23:17:30.026264",
          "status": "completed"
        },
        "tags": [],
        "id": "paMJbKbzLIzC"
      },
      "outputs": [],
      "source": [
        "import numpy as np\n",
        "import pandas as pd\n",
        "\n",
        "from collections import defaultdict\n",
        "from itertools import chain, combinations\n",
        "from optparse import OptionParser"
      ]
    },
    {
      "cell_type": "markdown",
      "metadata": {
        "papermill": {
          "duration": 0.013473,
          "end_time": "2021-01-08T23:17:30.081788",
          "exception": false,
          "start_time": "2021-01-08T23:17:30.068315",
          "status": "completed"
        },
        "tags": [],
        "id": "bvxrx6puLIzE"
      },
      "source": [
        "# Prepare Data"
      ]
    },
    {
      "cell_type": "code",
      "execution_count": 11,
      "metadata": {
        "_cell_guid": "79c7e3d0-c299-4dcb-8224-4455121ee9b0",
        "_uuid": "d629ff2d2480ee46fbb7e2d37f6b5fab8052498a",
        "execution": {
          "iopub.execute_input": "2021-01-08T23:17:30.123687Z",
          "iopub.status.busy": "2021-01-08T23:17:30.122802Z",
          "iopub.status.idle": "2021-01-08T23:17:45.628644Z",
          "shell.execute_reply": "2021-01-08T23:17:45.629160Z"
        },
        "papermill": {
          "duration": 15.53388,
          "end_time": "2021-01-08T23:17:45.629303",
          "exception": false,
          "start_time": "2021-01-08T23:17:30.095423",
          "status": "completed"
        },
        "tags": [],
        "colab": {
          "base_uri": "https://localhost:8080/",
          "height": 533
        },
        "id": "Wpt6ZRt9LIzE",
        "outputId": "39314118-78fd-4bd1-dbf4-daa3259401b9"
      },
      "outputs": [
        {
          "output_type": "execute_result",
          "data": {
            "text/plain": [
              "                            label  achiote paste  achiote powder  \\\n",
              "0    Infineon Raceway Baked Beans              0               0   \n",
              "1          Sour Cream Noodle Bake              0               0   \n",
              "2  Middle-Eastern Eggplant Rounds              0               0   \n",
              "3              Saffron Jewel Rice              0               0   \n",
              "4       Thai Sweet and Sour Wings              0               0   \n",
              "\n",
              "   acini di pepe  acorn squash  active dry yeast  adobo sauce  \\\n",
              "0              0             0               0.0          0.0   \n",
              "1              0             0               0.0          0.0   \n",
              "2              0             0               0.0          0.0   \n",
              "3              0             0               0.0          0.0   \n",
              "4              0             0               0.0          0.0   \n",
              "\n",
              "   adobo seasoning  adzuki beans  agave nectar  ...  yellow rock sugar  \\\n",
              "0                0             0           0.0  ...                0.0   \n",
              "1                0             0           0.0  ...                0.0   \n",
              "2                0             0           0.0  ...                0.0   \n",
              "3                0             0           0.0  ...                0.0   \n",
              "4                0             0           0.0  ...                0.0   \n",
              "\n",
              "   yellow squash  yellow summer squash  yellow tomato  yellowfin tuna  \\\n",
              "0            0.0                   0.0            0.0             0.0   \n",
              "1            0.0                   0.0            0.0             0.0   \n",
              "2            0.0                   0.0            0.0             0.0   \n",
              "3            0.0                   0.0            0.0             0.0   \n",
              "4            0.0                   0.0            0.0             0.0   \n",
              "\n",
              "   yogurt cheese  yucca root  yukon gold potatoes  yuzu juice  \\\n",
              "0            0.0         0.0                  0.0         0.0   \n",
              "1            0.0         0.0                  0.0         0.0   \n",
              "2            0.0         0.0                  0.0         0.0   \n",
              "3            0.0         0.0                  0.0         0.0   \n",
              "4            0.0         0.0                  0.0         0.0   \n",
              "\n",
              "   zucchini blossoms  \n",
              "0                0.0  \n",
              "1                0.0  \n",
              "2                0.0  \n",
              "3                0.0  \n",
              "4                0.0  \n",
              "\n",
              "[5 rows x 2925 columns]"
            ],
            "text/html": [
              "\n",
              "  <div id=\"df-d4f89baf-e523-4d73-956a-f75af15e8edc\" class=\"colab-df-container\">\n",
              "    <div>\n",
              "<style scoped>\n",
              "    .dataframe tbody tr th:only-of-type {\n",
              "        vertical-align: middle;\n",
              "    }\n",
              "\n",
              "    .dataframe tbody tr th {\n",
              "        vertical-align: top;\n",
              "    }\n",
              "\n",
              "    .dataframe thead th {\n",
              "        text-align: right;\n",
              "    }\n",
              "</style>\n",
              "<table border=\"1\" class=\"dataframe\">\n",
              "  <thead>\n",
              "    <tr style=\"text-align: right;\">\n",
              "      <th></th>\n",
              "      <th>label</th>\n",
              "      <th>achiote paste</th>\n",
              "      <th>achiote powder</th>\n",
              "      <th>acini di pepe</th>\n",
              "      <th>acorn squash</th>\n",
              "      <th>active dry yeast</th>\n",
              "      <th>adobo sauce</th>\n",
              "      <th>adobo seasoning</th>\n",
              "      <th>adzuki beans</th>\n",
              "      <th>agave nectar</th>\n",
              "      <th>...</th>\n",
              "      <th>yellow rock sugar</th>\n",
              "      <th>yellow squash</th>\n",
              "      <th>yellow summer squash</th>\n",
              "      <th>yellow tomato</th>\n",
              "      <th>yellowfin tuna</th>\n",
              "      <th>yogurt cheese</th>\n",
              "      <th>yucca root</th>\n",
              "      <th>yukon gold potatoes</th>\n",
              "      <th>yuzu juice</th>\n",
              "      <th>zucchini blossoms</th>\n",
              "    </tr>\n",
              "  </thead>\n",
              "  <tbody>\n",
              "    <tr>\n",
              "      <th>0</th>\n",
              "      <td>Infineon Raceway Baked Beans</td>\n",
              "      <td>0</td>\n",
              "      <td>0</td>\n",
              "      <td>0</td>\n",
              "      <td>0</td>\n",
              "      <td>0.0</td>\n",
              "      <td>0.0</td>\n",
              "      <td>0</td>\n",
              "      <td>0</td>\n",
              "      <td>0.0</td>\n",
              "      <td>...</td>\n",
              "      <td>0.0</td>\n",
              "      <td>0.0</td>\n",
              "      <td>0.0</td>\n",
              "      <td>0.0</td>\n",
              "      <td>0.0</td>\n",
              "      <td>0.0</td>\n",
              "      <td>0.0</td>\n",
              "      <td>0.0</td>\n",
              "      <td>0.0</td>\n",
              "      <td>0.0</td>\n",
              "    </tr>\n",
              "    <tr>\n",
              "      <th>1</th>\n",
              "      <td>Sour Cream Noodle Bake</td>\n",
              "      <td>0</td>\n",
              "      <td>0</td>\n",
              "      <td>0</td>\n",
              "      <td>0</td>\n",
              "      <td>0.0</td>\n",
              "      <td>0.0</td>\n",
              "      <td>0</td>\n",
              "      <td>0</td>\n",
              "      <td>0.0</td>\n",
              "      <td>...</td>\n",
              "      <td>0.0</td>\n",
              "      <td>0.0</td>\n",
              "      <td>0.0</td>\n",
              "      <td>0.0</td>\n",
              "      <td>0.0</td>\n",
              "      <td>0.0</td>\n",
              "      <td>0.0</td>\n",
              "      <td>0.0</td>\n",
              "      <td>0.0</td>\n",
              "      <td>0.0</td>\n",
              "    </tr>\n",
              "    <tr>\n",
              "      <th>2</th>\n",
              "      <td>Middle-Eastern Eggplant Rounds</td>\n",
              "      <td>0</td>\n",
              "      <td>0</td>\n",
              "      <td>0</td>\n",
              "      <td>0</td>\n",
              "      <td>0.0</td>\n",
              "      <td>0.0</td>\n",
              "      <td>0</td>\n",
              "      <td>0</td>\n",
              "      <td>0.0</td>\n",
              "      <td>...</td>\n",
              "      <td>0.0</td>\n",
              "      <td>0.0</td>\n",
              "      <td>0.0</td>\n",
              "      <td>0.0</td>\n",
              "      <td>0.0</td>\n",
              "      <td>0.0</td>\n",
              "      <td>0.0</td>\n",
              "      <td>0.0</td>\n",
              "      <td>0.0</td>\n",
              "      <td>0.0</td>\n",
              "    </tr>\n",
              "    <tr>\n",
              "      <th>3</th>\n",
              "      <td>Saffron Jewel Rice</td>\n",
              "      <td>0</td>\n",
              "      <td>0</td>\n",
              "      <td>0</td>\n",
              "      <td>0</td>\n",
              "      <td>0.0</td>\n",
              "      <td>0.0</td>\n",
              "      <td>0</td>\n",
              "      <td>0</td>\n",
              "      <td>0.0</td>\n",
              "      <td>...</td>\n",
              "      <td>0.0</td>\n",
              "      <td>0.0</td>\n",
              "      <td>0.0</td>\n",
              "      <td>0.0</td>\n",
              "      <td>0.0</td>\n",
              "      <td>0.0</td>\n",
              "      <td>0.0</td>\n",
              "      <td>0.0</td>\n",
              "      <td>0.0</td>\n",
              "      <td>0.0</td>\n",
              "    </tr>\n",
              "    <tr>\n",
              "      <th>4</th>\n",
              "      <td>Thai Sweet and Sour Wings</td>\n",
              "      <td>0</td>\n",
              "      <td>0</td>\n",
              "      <td>0</td>\n",
              "      <td>0</td>\n",
              "      <td>0.0</td>\n",
              "      <td>0.0</td>\n",
              "      <td>0</td>\n",
              "      <td>0</td>\n",
              "      <td>0.0</td>\n",
              "      <td>...</td>\n",
              "      <td>0.0</td>\n",
              "      <td>0.0</td>\n",
              "      <td>0.0</td>\n",
              "      <td>0.0</td>\n",
              "      <td>0.0</td>\n",
              "      <td>0.0</td>\n",
              "      <td>0.0</td>\n",
              "      <td>0.0</td>\n",
              "      <td>0.0</td>\n",
              "      <td>0.0</td>\n",
              "    </tr>\n",
              "  </tbody>\n",
              "</table>\n",
              "<p>5 rows × 2925 columns</p>\n",
              "</div>\n",
              "    <div class=\"colab-df-buttons\">\n",
              "\n",
              "  <div class=\"colab-df-container\">\n",
              "    <button class=\"colab-df-convert\" onclick=\"convertToInteractive('df-d4f89baf-e523-4d73-956a-f75af15e8edc')\"\n",
              "            title=\"Convert this dataframe to an interactive table.\"\n",
              "            style=\"display:none;\">\n",
              "\n",
              "  <svg xmlns=\"http://www.w3.org/2000/svg\" height=\"24px\" viewBox=\"0 -960 960 960\">\n",
              "    <path d=\"M120-120v-720h720v720H120Zm60-500h600v-160H180v160Zm220 220h160v-160H400v160Zm0 220h160v-160H400v160ZM180-400h160v-160H180v160Zm440 0h160v-160H620v160ZM180-180h160v-160H180v160Zm440 0h160v-160H620v160Z\"/>\n",
              "  </svg>\n",
              "    </button>\n",
              "\n",
              "  <style>\n",
              "    .colab-df-container {\n",
              "      display:flex;\n",
              "      gap: 12px;\n",
              "    }\n",
              "\n",
              "    .colab-df-convert {\n",
              "      background-color: #E8F0FE;\n",
              "      border: none;\n",
              "      border-radius: 50%;\n",
              "      cursor: pointer;\n",
              "      display: none;\n",
              "      fill: #1967D2;\n",
              "      height: 32px;\n",
              "      padding: 0 0 0 0;\n",
              "      width: 32px;\n",
              "    }\n",
              "\n",
              "    .colab-df-convert:hover {\n",
              "      background-color: #E2EBFA;\n",
              "      box-shadow: 0px 1px 2px rgba(60, 64, 67, 0.3), 0px 1px 3px 1px rgba(60, 64, 67, 0.15);\n",
              "      fill: #174EA6;\n",
              "    }\n",
              "\n",
              "    .colab-df-buttons div {\n",
              "      margin-bottom: 4px;\n",
              "    }\n",
              "\n",
              "    [theme=dark] .colab-df-convert {\n",
              "      background-color: #3B4455;\n",
              "      fill: #D2E3FC;\n",
              "    }\n",
              "\n",
              "    [theme=dark] .colab-df-convert:hover {\n",
              "      background-color: #434B5C;\n",
              "      box-shadow: 0px 1px 3px 1px rgba(0, 0, 0, 0.15);\n",
              "      filter: drop-shadow(0px 1px 2px rgba(0, 0, 0, 0.3));\n",
              "      fill: #FFFFFF;\n",
              "    }\n",
              "  </style>\n",
              "\n",
              "    <script>\n",
              "      const buttonEl =\n",
              "        document.querySelector('#df-d4f89baf-e523-4d73-956a-f75af15e8edc button.colab-df-convert');\n",
              "      buttonEl.style.display =\n",
              "        google.colab.kernel.accessAllowed ? 'block' : 'none';\n",
              "\n",
              "      async function convertToInteractive(key) {\n",
              "        const element = document.querySelector('#df-d4f89baf-e523-4d73-956a-f75af15e8edc');\n",
              "        const dataTable =\n",
              "          await google.colab.kernel.invokeFunction('convertToInteractive',\n",
              "                                                    [key], {});\n",
              "        if (!dataTable) return;\n",
              "\n",
              "        const docLinkHtml = 'Like what you see? Visit the ' +\n",
              "          '<a target=\"_blank\" href=https://colab.research.google.com/notebooks/data_table.ipynb>data table notebook</a>'\n",
              "          + ' to learn more about interactive tables.';\n",
              "        element.innerHTML = '';\n",
              "        dataTable['output_type'] = 'display_data';\n",
              "        await google.colab.output.renderOutput(dataTable, element);\n",
              "        const docLink = document.createElement('div');\n",
              "        docLink.innerHTML = docLinkHtml;\n",
              "        element.appendChild(docLink);\n",
              "      }\n",
              "    </script>\n",
              "  </div>\n",
              "\n",
              "\n",
              "<div id=\"df-54eca525-2668-4661-b4e7-00ff8a3e0287\">\n",
              "  <button class=\"colab-df-quickchart\" onclick=\"quickchart('df-54eca525-2668-4661-b4e7-00ff8a3e0287')\"\n",
              "            title=\"Suggest charts\"\n",
              "            style=\"display:none;\">\n",
              "\n",
              "<svg xmlns=\"http://www.w3.org/2000/svg\" height=\"24px\"viewBox=\"0 0 24 24\"\n",
              "     width=\"24px\">\n",
              "    <g>\n",
              "        <path d=\"M19 3H5c-1.1 0-2 .9-2 2v14c0 1.1.9 2 2 2h14c1.1 0 2-.9 2-2V5c0-1.1-.9-2-2-2zM9 17H7v-7h2v7zm4 0h-2V7h2v10zm4 0h-2v-4h2v4z\"/>\n",
              "    </g>\n",
              "</svg>\n",
              "  </button>\n",
              "\n",
              "<style>\n",
              "  .colab-df-quickchart {\n",
              "      --bg-color: #E8F0FE;\n",
              "      --fill-color: #1967D2;\n",
              "      --hover-bg-color: #E2EBFA;\n",
              "      --hover-fill-color: #174EA6;\n",
              "      --disabled-fill-color: #AAA;\n",
              "      --disabled-bg-color: #DDD;\n",
              "  }\n",
              "\n",
              "  [theme=dark] .colab-df-quickchart {\n",
              "      --bg-color: #3B4455;\n",
              "      --fill-color: #D2E3FC;\n",
              "      --hover-bg-color: #434B5C;\n",
              "      --hover-fill-color: #FFFFFF;\n",
              "      --disabled-bg-color: #3B4455;\n",
              "      --disabled-fill-color: #666;\n",
              "  }\n",
              "\n",
              "  .colab-df-quickchart {\n",
              "    background-color: var(--bg-color);\n",
              "    border: none;\n",
              "    border-radius: 50%;\n",
              "    cursor: pointer;\n",
              "    display: none;\n",
              "    fill: var(--fill-color);\n",
              "    height: 32px;\n",
              "    padding: 0;\n",
              "    width: 32px;\n",
              "  }\n",
              "\n",
              "  .colab-df-quickchart:hover {\n",
              "    background-color: var(--hover-bg-color);\n",
              "    box-shadow: 0 1px 2px rgba(60, 64, 67, 0.3), 0 1px 3px 1px rgba(60, 64, 67, 0.15);\n",
              "    fill: var(--button-hover-fill-color);\n",
              "  }\n",
              "\n",
              "  .colab-df-quickchart-complete:disabled,\n",
              "  .colab-df-quickchart-complete:disabled:hover {\n",
              "    background-color: var(--disabled-bg-color);\n",
              "    fill: var(--disabled-fill-color);\n",
              "    box-shadow: none;\n",
              "  }\n",
              "\n",
              "  .colab-df-spinner {\n",
              "    border: 2px solid var(--fill-color);\n",
              "    border-color: transparent;\n",
              "    border-bottom-color: var(--fill-color);\n",
              "    animation:\n",
              "      spin 1s steps(1) infinite;\n",
              "  }\n",
              "\n",
              "  @keyframes spin {\n",
              "    0% {\n",
              "      border-color: transparent;\n",
              "      border-bottom-color: var(--fill-color);\n",
              "      border-left-color: var(--fill-color);\n",
              "    }\n",
              "    20% {\n",
              "      border-color: transparent;\n",
              "      border-left-color: var(--fill-color);\n",
              "      border-top-color: var(--fill-color);\n",
              "    }\n",
              "    30% {\n",
              "      border-color: transparent;\n",
              "      border-left-color: var(--fill-color);\n",
              "      border-top-color: var(--fill-color);\n",
              "      border-right-color: var(--fill-color);\n",
              "    }\n",
              "    40% {\n",
              "      border-color: transparent;\n",
              "      border-right-color: var(--fill-color);\n",
              "      border-top-color: var(--fill-color);\n",
              "    }\n",
              "    60% {\n",
              "      border-color: transparent;\n",
              "      border-right-color: var(--fill-color);\n",
              "    }\n",
              "    80% {\n",
              "      border-color: transparent;\n",
              "      border-right-color: var(--fill-color);\n",
              "      border-bottom-color: var(--fill-color);\n",
              "    }\n",
              "    90% {\n",
              "      border-color: transparent;\n",
              "      border-bottom-color: var(--fill-color);\n",
              "    }\n",
              "  }\n",
              "</style>\n",
              "\n",
              "  <script>\n",
              "    async function quickchart(key) {\n",
              "      const quickchartButtonEl =\n",
              "        document.querySelector('#' + key + ' button');\n",
              "      quickchartButtonEl.disabled = true;  // To prevent multiple clicks.\n",
              "      quickchartButtonEl.classList.add('colab-df-spinner');\n",
              "      try {\n",
              "        const charts = await google.colab.kernel.invokeFunction(\n",
              "            'suggestCharts', [key], {});\n",
              "      } catch (error) {\n",
              "        console.error('Error during call to suggestCharts:', error);\n",
              "      }\n",
              "      quickchartButtonEl.classList.remove('colab-df-spinner');\n",
              "      quickchartButtonEl.classList.add('colab-df-quickchart-complete');\n",
              "    }\n",
              "    (() => {\n",
              "      let quickchartButtonEl =\n",
              "        document.querySelector('#df-54eca525-2668-4661-b4e7-00ff8a3e0287 button');\n",
              "      quickchartButtonEl.style.display =\n",
              "        google.colab.kernel.accessAllowed ? 'block' : 'none';\n",
              "    })();\n",
              "  </script>\n",
              "</div>\n",
              "\n",
              "    </div>\n",
              "  </div>\n"
            ],
            "application/vnd.google.colaboratory.intrinsic+json": {
              "type": "dataframe",
              "variable_name": "df"
            }
          },
          "metadata": {},
          "execution_count": 11
        }
      ],
      "source": [
        "import pandas as pd\n",
        "df = pd.read_csv('/train.csv')\n",
        "df.head()"
      ]
    },
    {
      "source": [
        "import pandas as pd\n",
        "\n",
        "try:\n",
        "    df = pd.read_csv('C:/Users/2021PITAI176/Downloads/train.csv')\n",
        "except FileNotFoundError as e:\n",
        "    print(f\"Error: {e}\")"
      ],
      "cell_type": "code",
      "metadata": {
        "colab": {
          "base_uri": "https://localhost:8080/"
        },
        "id": "Cqlt16q9Mahv",
        "outputId": "33222d80-a54e-4391-c1c6-9b762a3f3661"
      },
      "execution_count": 12,
      "outputs": [
        {
          "output_type": "stream",
          "name": "stdout",
          "text": [
            "Error: [Errno 2] No such file or directory: 'C:/Users/2021PITAI176/Downloads/train.csv'\n"
          ]
        }
      ]
    },
    {
      "cell_type": "code",
      "execution_count": null,
      "metadata": {
        "execution": {
          "iopub.execute_input": "2021-01-08T23:17:45.779488Z",
          "iopub.status.busy": "2021-01-08T23:17:45.778860Z",
          "iopub.status.idle": "2021-01-08T23:17:45.783665Z",
          "shell.execute_reply": "2021-01-08T23:17:45.782950Z"
        },
        "papermill": {
          "duration": 0.139755,
          "end_time": "2021-01-08T23:17:45.783769",
          "exception": false,
          "start_time": "2021-01-08T23:17:45.644014",
          "status": "completed"
        },
        "tags": [],
        "id": "EUaTygu3LIzG"
      },
      "outputs": [],
      "source": [
        "features = df.iloc[:, 1:]\n",
        "labels = df.iloc[:, 0]"
      ]
    },
    {
      "cell_type": "markdown",
      "metadata": {
        "papermill": {
          "duration": 0.013916,
          "end_time": "2021-01-08T23:17:45.812235",
          "exception": false,
          "start_time": "2021-01-08T23:17:45.798319",
          "status": "completed"
        },
        "tags": [],
        "id": "o_Np4BCULIzG"
      },
      "source": [
        "# Additional functionality"
      ]
    },
    {
      "cell_type": "code",
      "execution_count": 13,
      "metadata": {
        "execution": {
          "iopub.execute_input": "2021-01-08T23:17:45.843791Z",
          "iopub.status.busy": "2021-01-08T23:17:45.842877Z",
          "iopub.status.idle": "2021-01-08T23:17:45.863222Z",
          "shell.execute_reply": "2021-01-08T23:17:45.863770Z"
        },
        "papermill": {
          "duration": 0.037699,
          "end_time": "2021-01-08T23:17:45.863926",
          "exception": false,
          "start_time": "2021-01-08T23:17:45.826227",
          "status": "completed"
        },
        "tags": [],
        "id": "suA23hJ0LIzG"
      },
      "outputs": [],
      "source": [
        "def powerset(s):\n",
        "    return chain.from_iterable(combinations(s, r) for r in range(1, len(s)))\n",
        "\n",
        "\n",
        "def getAboveMinSup(itemSet, itemSetList, minSup, globalItemSetWithSup):\n",
        "    freqItemSet = set()\n",
        "    localItemSetWithSup = defaultdict(int)\n",
        "\n",
        "    for item in itemSet:\n",
        "        for itemSet in itemSetList:\n",
        "            if item.issubset(itemSet):\n",
        "                globalItemSetWithSup[item] += 1\n",
        "                localItemSetWithSup[item] += 1\n",
        "\n",
        "    for item, supCount in localItemSetWithSup.items():\n",
        "        support = float(supCount / len(itemSetList))\n",
        "        if(support >= minSup):\n",
        "            freqItemSet.add(item)\n",
        "\n",
        "    return freqItemSet\n",
        "\n",
        "\n",
        "def getUnion(itemSet, length):\n",
        "    return set([i.union(j) for i in itemSet for j in itemSet if len(i.union(j)) == length])\n",
        "\n",
        "\n",
        "def pruning(candidateSet, prevFreqSet, length):\n",
        "    tempCandidateSet = candidateSet.copy()\n",
        "    for item in candidateSet:\n",
        "        subsets = combinations(item, length)\n",
        "        for subset in subsets:\n",
        "            # if the subset is not in previous K-frequent get, then remove the set\n",
        "            if(frozenset(subset) not in prevFreqSet):\n",
        "                tempCandidateSet.remove(item)\n",
        "                break\n",
        "    return tempCandidateSet\n",
        "\n",
        "\n",
        "def associationRule(freqItemSet, recipes, labels, itemSetWithSup, minConf):\n",
        "    rules = []\n",
        "    lbls = []\n",
        "\n",
        "    sets_compare = [set(re) for re in recipes]\n",
        "\n",
        "    for k, itemSet in freqItemSet.items():\n",
        "        for item in itemSet:\n",
        "            subsets = powerset(item)\n",
        "            for s in subsets:\n",
        "\n",
        "                ss = set([es for es in s])\n",
        "                if(len(ss.intersection(sets_compare[0])) > 0 and len(ss.intersection(sets_compare[1])) > 0):\n",
        "                    lbls.append([labels[0], labels[1]])\n",
        "                if(len(ss.intersection(sets_compare[0])) > 0):\n",
        "                    lbls.append(labels[0])\n",
        "                if(len(ss.intersection(sets_compare[1])) > 0):\n",
        "                    lbls.append(labels[1])\n",
        "\n",
        "                confidence = float(\n",
        "                    itemSetWithSup[item] / itemSetWithSup[frozenset(s)])\n",
        "                if(confidence > minConf):\n",
        "                    rules.append([set(s), set(item.difference(s)), confidence])\n",
        "    return rules, lbls\n",
        "\n",
        "\n",
        "def getItemSetFromList(itemSetList):\n",
        "    tempItemSet = set()\n",
        "\n",
        "    for itemSet in itemSetList:\n",
        "        for item in itemSet:\n",
        "            tempItemSet.add(frozenset([item]))\n",
        "\n",
        "    return tempItemSet"
      ]
    },
    {
      "cell_type": "markdown",
      "metadata": {
        "papermill": {
          "duration": 0.013935,
          "end_time": "2021-01-08T23:17:45.892456",
          "exception": false,
          "start_time": "2021-01-08T23:17:45.878521",
          "status": "completed"
        },
        "tags": [],
        "id": "0CxlDrEDLIzI"
      },
      "source": [
        "# Apriori pseudocode"
      ]
    },
    {
      "cell_type": "markdown",
      "metadata": {
        "papermill": {
          "duration": 0.013721,
          "end_time": "2021-01-08T23:17:45.920356",
          "exception": false,
          "start_time": "2021-01-08T23:17:45.906635",
          "status": "completed"
        },
        "tags": [],
        "id": "UvIHxLFsLIzI"
      },
      "source": [
        "<pre>\n",
        "L[1] = {frequent 1-itemsets};\n",
        "for (k=2; L[k-1] != 0; k ++) do begin\n",
        "    // perform self-joining\n",
        "    C[k] = getUnion(L[k-1])\n",
        "    // remove pruned supersets\n",
        "    C[k] = pruning(C[k])\n",
        "    // get itemsets that satisfy minSup\n",
        "    L[k] = getAboveMinSup(C[k], minSup)\n",
        "end\n",
        "Answer = Lk (union)\n",
        "</pre>"
      ]
    },
    {
      "cell_type": "markdown",
      "metadata": {
        "papermill": {
          "duration": 0.014085,
          "end_time": "2021-01-08T23:17:45.948618",
          "exception": false,
          "start_time": "2021-01-08T23:17:45.934533",
          "status": "completed"
        },
        "tags": [],
        "id": "Lf18jvHgLIzJ"
      },
      "source": [
        "# Apriori implementation"
      ]
    },
    {
      "cell_type": "code",
      "execution_count": 14,
      "metadata": {
        "execution": {
          "iopub.execute_input": "2021-01-08T23:17:45.981900Z",
          "iopub.status.busy": "2021-01-08T23:17:45.980978Z",
          "iopub.status.idle": "2021-01-08T23:17:45.989506Z",
          "shell.execute_reply": "2021-01-08T23:17:45.990067Z"
        },
        "papermill": {
          "duration": 0.027096,
          "end_time": "2021-01-08T23:17:45.990223",
          "exception": false,
          "start_time": "2021-01-08T23:17:45.963127",
          "status": "completed"
        },
        "tags": [],
        "id": "vIVrKDdiLIzJ"
      },
      "outputs": [],
      "source": [
        "def apriori(itemSetList, labels, minSup, minConf):\n",
        "    C1ItemSet = getItemSetFromList(itemSetList)\n",
        "    # Final result global frequent itemset\n",
        "    globalFreqItemSet = dict()\n",
        "    # Storing global itemset with support count\n",
        "    globalItemSetWithSup = defaultdict(int)\n",
        "\n",
        "    L1ItemSet = getAboveMinSup(\n",
        "        C1ItemSet, itemSetList, minSup, globalItemSetWithSup)\n",
        "    currentLSet = L1ItemSet\n",
        "    k = 2\n",
        "\n",
        "    # Calculating frequent item set\n",
        "    while(currentLSet):\n",
        "        # Storing frequent itemset\n",
        "        globalFreqItemSet[k-1] = currentLSet\n",
        "        # Self-joining Lk\n",
        "        candidateSet = getUnion(currentLSet, k)\n",
        "        # Perform subset testing and remove pruned supersets\n",
        "        candidateSet = pruning(candidateSet, currentLSet, k-1)\n",
        "        # Scanning itemSet for counting support\n",
        "        currentLSet = getAboveMinSup(\n",
        "            candidateSet, itemSetList, minSup, globalItemSetWithSup)\n",
        "        k += 1\n",
        "\n",
        "    rules, lbls = associationRule(globalFreqItemSet, itemSetList, labels, globalItemSetWithSup, minConf)\n",
        "    #rules.sort(key=lambda x: x[2])\n",
        "\n",
        "    return globalFreqItemSet, rules, lbls"
      ]
    },
    {
      "cell_type": "markdown",
      "metadata": {
        "papermill": {
          "duration": 0.014308,
          "end_time": "2021-01-08T23:17:46.019421",
          "exception": false,
          "start_time": "2021-01-08T23:17:46.005113",
          "status": "completed"
        },
        "tags": [],
        "id": "cGtLNSZJLIzK"
      },
      "source": [
        "# Compare two receipes"
      ]
    },
    {
      "cell_type": "code",
      "execution_count": 17,
      "metadata": {
        "execution": {
          "iopub.execute_input": "2021-01-08T23:17:46.052139Z",
          "iopub.status.busy": "2021-01-08T23:17:46.051249Z",
          "iopub.status.idle": "2021-01-08T23:17:46.057221Z",
          "shell.execute_reply": "2021-01-08T23:17:46.057771Z"
        },
        "papermill": {
          "duration": 0.02371,
          "end_time": "2021-01-08T23:17:46.057928",
          "exception": false,
          "start_time": "2021-01-08T23:17:46.034218",
          "status": "completed"
        },
        "tags": [],
        "id": "lwPzpWP3LIzK"
      },
      "outputs": [],
      "source": [
        "idx_to_column = {k:v for k,v in enumerate(features.columns.values)}\n",
        "column_to_idx = {v:k for k,v in enumerate(features.columns.values)}"
      ]
    },
    {
      "source": [
        "features = pd.DataFrame({'column1': [1, 2, 3], 'column2': [4, 5, 6]})"
      ],
      "cell_type": "code",
      "metadata": {
        "id": "zF8J19hwNBuN"
      },
      "execution_count": 16,
      "outputs": []
    },
    {
      "cell_type": "code",
      "execution_count": 18,
      "metadata": {
        "execution": {
          "iopub.execute_input": "2021-01-08T23:17:46.091389Z",
          "iopub.status.busy": "2021-01-08T23:17:46.090418Z",
          "iopub.status.idle": "2021-01-08T23:17:46.098857Z",
          "shell.execute_reply": "2021-01-08T23:17:46.099359Z"
        },
        "papermill": {
          "duration": 0.026792,
          "end_time": "2021-01-08T23:17:46.099494",
          "exception": false,
          "start_time": "2021-01-08T23:17:46.072702",
          "status": "completed"
        },
        "tags": [],
        "id": "sn2L9RKSLIzK"
      },
      "outputs": [],
      "source": [
        "def get_random_recipes(features, labels, nr):\n",
        "    ids = np.random.randint(0, len(features), size=nr).tolist()\n",
        "    idxs = np.array([np.arange(len(features.columns.values)).tolist() for x in range(nr)])\n",
        "    multiply = features.iloc[ids].values.astype(np.int32) * idxs\n",
        "    idx_arr  = [np.where(mult != 0)[0].tolist() for mult in multiply]\n",
        "    recipes = []\n",
        "    for arr_idx in idx_arr:\n",
        "        temp_result = []\n",
        "        for idx in arr_idx:\n",
        "            temp_result.append(idx_to_column[idx])\n",
        "        recipes.append(temp_result)\n",
        "    return recipes, labels[ids].values"
      ]
    },
    {
      "cell_type": "code",
      "execution_count": 19,
      "metadata": {
        "execution": {
          "iopub.execute_input": "2021-01-08T23:17:46.133038Z",
          "iopub.status.busy": "2021-01-08T23:17:46.132117Z",
          "iopub.status.idle": "2021-01-08T23:17:46.137203Z",
          "shell.execute_reply": "2021-01-08T23:17:46.137731Z"
        },
        "papermill": {
          "duration": 0.022896,
          "end_time": "2021-01-08T23:17:46.137891",
          "exception": false,
          "start_time": "2021-01-08T23:17:46.114995",
          "status": "completed"
        },
        "tags": [],
        "id": "DKJn73IILIzL"
      },
      "outputs": [],
      "source": [
        "def print_recipe(recipe, label):\n",
        "    print(\"-\" * 50)\n",
        "    print(\"Recipe: \", label)\n",
        "    print(\"-\" * 50)\n",
        "    for item in recipe:\n",
        "        print(item)"
      ]
    },
    {
      "source": [
        "# Print the features DataFrame\n",
        "print(features.head())\n",
        "\n",
        "# Print the labels DataFrame\n",
        "print(labels.head())"
      ],
      "cell_type": "code",
      "metadata": {
        "colab": {
          "base_uri": "https://localhost:8080/"
        },
        "id": "sCAWQUwjNjnX",
        "outputId": "9df762b2-85d0-420d-e763-48fc9d0a7586"
      },
      "execution_count": 27,
      "outputs": [
        {
          "output_type": "stream",
          "name": "stdout",
          "text": [
            "   column1  column2\n",
            "0        1        4\n",
            "1        2        5\n",
            "2        3        6\n",
            "    cuisine\n",
            "0   italian\n",
            "1   mexican\n",
            "2      thai\n",
            "3  american\n",
            "4   chinese\n"
          ]
        }
      ]
    },
    {
      "source": [
        "def get_random_recipes(features, labels, nr):\n",
        "    # Get random indices from the features DataFrame\n",
        "    ids = features.sample(n=nr).index\n",
        "\n",
        "    # Select the corresponding rows from the labels DataFrame\n",
        "    labels = labels.loc[ids]\n",
        "\n",
        "    # Create a list of recipes and labels\n",
        "    recipes = []\n",
        "    lbls = []\n",
        "    for idx in ids:\n",
        "        recipes.append(features.loc[idx].values)\n",
        "        lbls.append(labels.loc[idx].values)\n",
        "\n",
        "    return recipes, lbls"
      ],
      "cell_type": "code",
      "metadata": {
        "id": "dJSNdvaGNmam"
      },
      "execution_count": 28,
      "outputs": []
    },
    {
      "source": [
        "# Add a new column to the labels DataFrame with the index 2\n",
        "labels.loc[2] = [0, 0, 0, 0, 0, 0, 0, 0, 0, 0, 0, 0, 0, 0, 0, 0, 0, 0, 0, 0, 0, 0, 0, 0, 0, 0, 0, 0, 0, 0]\n",
        "\n",
        "# Get random recipes and labels\n",
        "recipes, lbls = get_random_recipes(features, labels, nr=2)"
      ],
      "cell_type": "code",
      "metadata": {
        "colab": {
          "base_uri": "https://localhost:8080/",
          "height": 391
        },
        "id": "esLVWoUANoS9",
        "outputId": "8dc1b230-d4a1-48f6-a847-0d1615b4507f"
      },
      "execution_count": 34,
      "outputs": [
        {
          "output_type": "error",
          "ename": "ValueError",
          "evalue": "could not broadcast input array from shape (30,) into shape (1,)",
          "traceback": [
            "\u001b[0;31m---------------------------------------------------------------------------\u001b[0m",
            "\u001b[0;31mValueError\u001b[0m                                Traceback (most recent call last)",
            "\u001b[0;32m<ipython-input-34-c86ce9473256>\u001b[0m in \u001b[0;36m<cell line: 2>\u001b[0;34m()\u001b[0m\n\u001b[1;32m      1\u001b[0m \u001b[0;31m# Add a new column to the labels DataFrame with the index 2\u001b[0m\u001b[0;34m\u001b[0m\u001b[0;34m\u001b[0m\u001b[0m\n\u001b[0;32m----> 2\u001b[0;31m \u001b[0mlabels\u001b[0m\u001b[0;34m.\u001b[0m\u001b[0mloc\u001b[0m\u001b[0;34m[\u001b[0m\u001b[0;36m2\u001b[0m\u001b[0;34m]\u001b[0m \u001b[0;34m=\u001b[0m \u001b[0;34m[\u001b[0m\u001b[0;36m0\u001b[0m\u001b[0;34m,\u001b[0m \u001b[0;36m0\u001b[0m\u001b[0;34m,\u001b[0m \u001b[0;36m0\u001b[0m\u001b[0;34m,\u001b[0m \u001b[0;36m0\u001b[0m\u001b[0;34m,\u001b[0m \u001b[0;36m0\u001b[0m\u001b[0;34m,\u001b[0m \u001b[0;36m0\u001b[0m\u001b[0;34m,\u001b[0m \u001b[0;36m0\u001b[0m\u001b[0;34m,\u001b[0m \u001b[0;36m0\u001b[0m\u001b[0;34m,\u001b[0m \u001b[0;36m0\u001b[0m\u001b[0;34m,\u001b[0m \u001b[0;36m0\u001b[0m\u001b[0;34m,\u001b[0m \u001b[0;36m0\u001b[0m\u001b[0;34m,\u001b[0m \u001b[0;36m0\u001b[0m\u001b[0;34m,\u001b[0m \u001b[0;36m0\u001b[0m\u001b[0;34m,\u001b[0m \u001b[0;36m0\u001b[0m\u001b[0;34m,\u001b[0m \u001b[0;36m0\u001b[0m\u001b[0;34m,\u001b[0m \u001b[0;36m0\u001b[0m\u001b[0;34m,\u001b[0m \u001b[0;36m0\u001b[0m\u001b[0;34m,\u001b[0m \u001b[0;36m0\u001b[0m\u001b[0;34m,\u001b[0m \u001b[0;36m0\u001b[0m\u001b[0;34m,\u001b[0m \u001b[0;36m0\u001b[0m\u001b[0;34m,\u001b[0m \u001b[0;36m0\u001b[0m\u001b[0;34m,\u001b[0m \u001b[0;36m0\u001b[0m\u001b[0;34m,\u001b[0m \u001b[0;36m0\u001b[0m\u001b[0;34m,\u001b[0m \u001b[0;36m0\u001b[0m\u001b[0;34m,\u001b[0m \u001b[0;36m0\u001b[0m\u001b[0;34m,\u001b[0m \u001b[0;36m0\u001b[0m\u001b[0;34m,\u001b[0m \u001b[0;36m0\u001b[0m\u001b[0;34m,\u001b[0m \u001b[0;36m0\u001b[0m\u001b[0;34m,\u001b[0m \u001b[0;36m0\u001b[0m\u001b[0;34m,\u001b[0m \u001b[0;36m0\u001b[0m\u001b[0;34m]\u001b[0m\u001b[0;34m\u001b[0m\u001b[0;34m\u001b[0m\u001b[0m\n\u001b[0m\u001b[1;32m      3\u001b[0m \u001b[0;34m\u001b[0m\u001b[0m\n\u001b[1;32m      4\u001b[0m \u001b[0;31m# Get random recipes and labels\u001b[0m\u001b[0;34m\u001b[0m\u001b[0;34m\u001b[0m\u001b[0m\n\u001b[1;32m      5\u001b[0m \u001b[0mrecipes\u001b[0m\u001b[0;34m,\u001b[0m \u001b[0mlbls\u001b[0m \u001b[0;34m=\u001b[0m \u001b[0mget_random_recipes\u001b[0m\u001b[0;34m(\u001b[0m\u001b[0mfeatures\u001b[0m\u001b[0;34m,\u001b[0m \u001b[0mlabels\u001b[0m\u001b[0;34m,\u001b[0m \u001b[0mnr\u001b[0m\u001b[0;34m=\u001b[0m\u001b[0;36m2\u001b[0m\u001b[0;34m)\u001b[0m\u001b[0;34m\u001b[0m\u001b[0;34m\u001b[0m\u001b[0m\n",
            "\u001b[0;32m/usr/local/lib/python3.10/dist-packages/pandas/core/indexing.py\u001b[0m in \u001b[0;36m__setitem__\u001b[0;34m(self, key, value)\u001b[0m\n\u001b[1;32m    816\u001b[0m \u001b[0;34m\u001b[0m\u001b[0m\n\u001b[1;32m    817\u001b[0m         \u001b[0miloc\u001b[0m \u001b[0;34m=\u001b[0m \u001b[0mself\u001b[0m \u001b[0;32mif\u001b[0m \u001b[0mself\u001b[0m\u001b[0;34m.\u001b[0m\u001b[0mname\u001b[0m \u001b[0;34m==\u001b[0m \u001b[0;34m\"iloc\"\u001b[0m \u001b[0;32melse\u001b[0m \u001b[0mself\u001b[0m\u001b[0;34m.\u001b[0m\u001b[0mobj\u001b[0m\u001b[0;34m.\u001b[0m\u001b[0miloc\u001b[0m\u001b[0;34m\u001b[0m\u001b[0;34m\u001b[0m\u001b[0m\n\u001b[0;32m--> 818\u001b[0;31m         \u001b[0miloc\u001b[0m\u001b[0;34m.\u001b[0m\u001b[0m_setitem_with_indexer\u001b[0m\u001b[0;34m(\u001b[0m\u001b[0mindexer\u001b[0m\u001b[0;34m,\u001b[0m \u001b[0mvalue\u001b[0m\u001b[0;34m,\u001b[0m \u001b[0mself\u001b[0m\u001b[0;34m.\u001b[0m\u001b[0mname\u001b[0m\u001b[0;34m)\u001b[0m\u001b[0;34m\u001b[0m\u001b[0;34m\u001b[0m\u001b[0m\n\u001b[0m\u001b[1;32m    819\u001b[0m \u001b[0;34m\u001b[0m\u001b[0m\n\u001b[1;32m    820\u001b[0m     \u001b[0;32mdef\u001b[0m \u001b[0m_validate_key\u001b[0m\u001b[0;34m(\u001b[0m\u001b[0mself\u001b[0m\u001b[0;34m,\u001b[0m \u001b[0mkey\u001b[0m\u001b[0;34m,\u001b[0m \u001b[0maxis\u001b[0m\u001b[0;34m:\u001b[0m \u001b[0mint\u001b[0m\u001b[0;34m)\u001b[0m\u001b[0;34m:\u001b[0m\u001b[0;34m\u001b[0m\u001b[0;34m\u001b[0m\u001b[0m\n",
            "\u001b[0;32m/usr/local/lib/python3.10/dist-packages/pandas/core/indexing.py\u001b[0m in \u001b[0;36m_setitem_with_indexer\u001b[0;34m(self, indexer, value, name)\u001b[0m\n\u001b[1;32m   1795\u001b[0m             \u001b[0mself\u001b[0m\u001b[0;34m.\u001b[0m\u001b[0m_setitem_with_indexer_split_path\u001b[0m\u001b[0;34m(\u001b[0m\u001b[0mindexer\u001b[0m\u001b[0;34m,\u001b[0m \u001b[0mvalue\u001b[0m\u001b[0;34m,\u001b[0m \u001b[0mname\u001b[0m\u001b[0;34m)\u001b[0m\u001b[0;34m\u001b[0m\u001b[0;34m\u001b[0m\u001b[0m\n\u001b[1;32m   1796\u001b[0m         \u001b[0;32melse\u001b[0m\u001b[0;34m:\u001b[0m\u001b[0;34m\u001b[0m\u001b[0;34m\u001b[0m\u001b[0m\n\u001b[0;32m-> 1797\u001b[0;31m             \u001b[0mself\u001b[0m\u001b[0;34m.\u001b[0m\u001b[0m_setitem_single_block\u001b[0m\u001b[0;34m(\u001b[0m\u001b[0mindexer\u001b[0m\u001b[0;34m,\u001b[0m \u001b[0mvalue\u001b[0m\u001b[0;34m,\u001b[0m \u001b[0mname\u001b[0m\u001b[0;34m)\u001b[0m\u001b[0;34m\u001b[0m\u001b[0;34m\u001b[0m\u001b[0m\n\u001b[0m\u001b[1;32m   1798\u001b[0m \u001b[0;34m\u001b[0m\u001b[0m\n\u001b[1;32m   1799\u001b[0m     \u001b[0;32mdef\u001b[0m \u001b[0m_setitem_with_indexer_split_path\u001b[0m\u001b[0;34m(\u001b[0m\u001b[0mself\u001b[0m\u001b[0;34m,\u001b[0m \u001b[0mindexer\u001b[0m\u001b[0;34m,\u001b[0m \u001b[0mvalue\u001b[0m\u001b[0;34m,\u001b[0m \u001b[0mname\u001b[0m\u001b[0;34m:\u001b[0m \u001b[0mstr\u001b[0m\u001b[0;34m)\u001b[0m\u001b[0;34m:\u001b[0m\u001b[0;34m\u001b[0m\u001b[0;34m\u001b[0m\u001b[0m\n",
            "\u001b[0;32m/usr/local/lib/python3.10/dist-packages/pandas/core/indexing.py\u001b[0m in \u001b[0;36m_setitem_single_block\u001b[0;34m(self, indexer, value, name)\u001b[0m\n\u001b[1;32m   2076\u001b[0m \u001b[0;34m\u001b[0m\u001b[0m\n\u001b[1;32m   2077\u001b[0m         \u001b[0;31m# actually do the set\u001b[0m\u001b[0;34m\u001b[0m\u001b[0;34m\u001b[0m\u001b[0m\n\u001b[0;32m-> 2078\u001b[0;31m         \u001b[0mself\u001b[0m\u001b[0;34m.\u001b[0m\u001b[0mobj\u001b[0m\u001b[0;34m.\u001b[0m\u001b[0m_mgr\u001b[0m \u001b[0;34m=\u001b[0m \u001b[0mself\u001b[0m\u001b[0;34m.\u001b[0m\u001b[0mobj\u001b[0m\u001b[0;34m.\u001b[0m\u001b[0m_mgr\u001b[0m\u001b[0;34m.\u001b[0m\u001b[0msetitem\u001b[0m\u001b[0;34m(\u001b[0m\u001b[0mindexer\u001b[0m\u001b[0;34m=\u001b[0m\u001b[0mindexer\u001b[0m\u001b[0;34m,\u001b[0m \u001b[0mvalue\u001b[0m\u001b[0;34m=\u001b[0m\u001b[0mvalue\u001b[0m\u001b[0;34m)\u001b[0m\u001b[0;34m\u001b[0m\u001b[0;34m\u001b[0m\u001b[0m\n\u001b[0m\u001b[1;32m   2079\u001b[0m         \u001b[0mself\u001b[0m\u001b[0;34m.\u001b[0m\u001b[0mobj\u001b[0m\u001b[0;34m.\u001b[0m\u001b[0m_maybe_update_cacher\u001b[0m\u001b[0;34m(\u001b[0m\u001b[0mclear\u001b[0m\u001b[0;34m=\u001b[0m\u001b[0;32mTrue\u001b[0m\u001b[0;34m,\u001b[0m \u001b[0minplace\u001b[0m\u001b[0;34m=\u001b[0m\u001b[0;32mTrue\u001b[0m\u001b[0;34m)\u001b[0m\u001b[0;34m\u001b[0m\u001b[0;34m\u001b[0m\u001b[0m\n\u001b[1;32m   2080\u001b[0m \u001b[0;34m\u001b[0m\u001b[0m\n",
            "\u001b[0;32m/usr/local/lib/python3.10/dist-packages/pandas/core/internals/managers.py\u001b[0m in \u001b[0;36msetitem\u001b[0;34m(self, indexer, value)\u001b[0m\n\u001b[1;32m    391\u001b[0m             \u001b[0mself\u001b[0m \u001b[0;34m=\u001b[0m \u001b[0mself\u001b[0m\u001b[0;34m.\u001b[0m\u001b[0mcopy\u001b[0m\u001b[0;34m(\u001b[0m\u001b[0;34m)\u001b[0m\u001b[0;34m\u001b[0m\u001b[0;34m\u001b[0m\u001b[0m\n\u001b[1;32m    392\u001b[0m \u001b[0;34m\u001b[0m\u001b[0m\n\u001b[0;32m--> 393\u001b[0;31m         \u001b[0;32mreturn\u001b[0m \u001b[0mself\u001b[0m\u001b[0;34m.\u001b[0m\u001b[0mapply\u001b[0m\u001b[0;34m(\u001b[0m\u001b[0;34m\"setitem\"\u001b[0m\u001b[0;34m,\u001b[0m \u001b[0mindexer\u001b[0m\u001b[0;34m=\u001b[0m\u001b[0mindexer\u001b[0m\u001b[0;34m,\u001b[0m \u001b[0mvalue\u001b[0m\u001b[0;34m=\u001b[0m\u001b[0mvalue\u001b[0m\u001b[0;34m)\u001b[0m\u001b[0;34m\u001b[0m\u001b[0;34m\u001b[0m\u001b[0m\n\u001b[0m\u001b[1;32m    394\u001b[0m \u001b[0;34m\u001b[0m\u001b[0m\n\u001b[1;32m    395\u001b[0m     \u001b[0;32mdef\u001b[0m \u001b[0mputmask\u001b[0m\u001b[0;34m(\u001b[0m\u001b[0mself\u001b[0m\u001b[0;34m,\u001b[0m \u001b[0mmask\u001b[0m\u001b[0;34m,\u001b[0m \u001b[0mnew\u001b[0m\u001b[0;34m,\u001b[0m \u001b[0malign\u001b[0m\u001b[0;34m:\u001b[0m \u001b[0mbool\u001b[0m \u001b[0;34m=\u001b[0m \u001b[0;32mTrue\u001b[0m\u001b[0;34m)\u001b[0m\u001b[0;34m:\u001b[0m\u001b[0;34m\u001b[0m\u001b[0;34m\u001b[0m\u001b[0m\n",
            "\u001b[0;32m/usr/local/lib/python3.10/dist-packages/pandas/core/internals/managers.py\u001b[0m in \u001b[0;36mapply\u001b[0;34m(self, f, align_keys, ignore_failures, **kwargs)\u001b[0m\n\u001b[1;32m    350\u001b[0m                     \u001b[0mapplied\u001b[0m \u001b[0;34m=\u001b[0m \u001b[0mb\u001b[0m\u001b[0;34m.\u001b[0m\u001b[0mapply\u001b[0m\u001b[0;34m(\u001b[0m\u001b[0mf\u001b[0m\u001b[0;34m,\u001b[0m \u001b[0;34m**\u001b[0m\u001b[0mkwargs\u001b[0m\u001b[0;34m)\u001b[0m\u001b[0;34m\u001b[0m\u001b[0;34m\u001b[0m\u001b[0m\n\u001b[1;32m    351\u001b[0m                 \u001b[0;32melse\u001b[0m\u001b[0;34m:\u001b[0m\u001b[0;34m\u001b[0m\u001b[0;34m\u001b[0m\u001b[0m\n\u001b[0;32m--> 352\u001b[0;31m                     \u001b[0mapplied\u001b[0m \u001b[0;34m=\u001b[0m \u001b[0mgetattr\u001b[0m\u001b[0;34m(\u001b[0m\u001b[0mb\u001b[0m\u001b[0;34m,\u001b[0m \u001b[0mf\u001b[0m\u001b[0;34m)\u001b[0m\u001b[0;34m(\u001b[0m\u001b[0;34m**\u001b[0m\u001b[0mkwargs\u001b[0m\u001b[0;34m)\u001b[0m\u001b[0;34m\u001b[0m\u001b[0;34m\u001b[0m\u001b[0m\n\u001b[0m\u001b[1;32m    353\u001b[0m             \u001b[0;32mexcept\u001b[0m \u001b[0;34m(\u001b[0m\u001b[0mTypeError\u001b[0m\u001b[0;34m,\u001b[0m \u001b[0mNotImplementedError\u001b[0m\u001b[0;34m)\u001b[0m\u001b[0;34m:\u001b[0m\u001b[0;34m\u001b[0m\u001b[0;34m\u001b[0m\u001b[0m\n\u001b[1;32m    354\u001b[0m                 \u001b[0;32mif\u001b[0m \u001b[0;32mnot\u001b[0m \u001b[0mignore_failures\u001b[0m\u001b[0;34m:\u001b[0m\u001b[0;34m\u001b[0m\u001b[0;34m\u001b[0m\u001b[0m\n",
            "\u001b[0;32m/usr/local/lib/python3.10/dist-packages/pandas/core/internals/blocks.py\u001b[0m in \u001b[0;36msetitem\u001b[0;34m(self, indexer, value)\u001b[0m\n\u001b[1;32m    984\u001b[0m                     \u001b[0;31m#  test_iloc_setitem_custom_object\u001b[0m\u001b[0;34m\u001b[0m\u001b[0;34m\u001b[0m\u001b[0m\n\u001b[1;32m    985\u001b[0m                     \u001b[0mcasted\u001b[0m \u001b[0;34m=\u001b[0m \u001b[0msetitem_datetimelike_compat\u001b[0m\u001b[0;34m(\u001b[0m\u001b[0mvalues\u001b[0m\u001b[0;34m,\u001b[0m \u001b[0mlen\u001b[0m\u001b[0;34m(\u001b[0m\u001b[0mvi\u001b[0m\u001b[0;34m)\u001b[0m\u001b[0;34m,\u001b[0m \u001b[0mcasted\u001b[0m\u001b[0;34m)\u001b[0m\u001b[0;34m\u001b[0m\u001b[0;34m\u001b[0m\u001b[0m\n\u001b[0;32m--> 986\u001b[0;31m             \u001b[0mvalues\u001b[0m\u001b[0;34m[\u001b[0m\u001b[0mindexer\u001b[0m\u001b[0;34m]\u001b[0m \u001b[0;34m=\u001b[0m \u001b[0mcasted\u001b[0m\u001b[0;34m\u001b[0m\u001b[0;34m\u001b[0m\u001b[0m\n\u001b[0m\u001b[1;32m    987\u001b[0m         \u001b[0;32mreturn\u001b[0m \u001b[0mself\u001b[0m\u001b[0;34m\u001b[0m\u001b[0;34m\u001b[0m\u001b[0m\n\u001b[1;32m    988\u001b[0m \u001b[0;34m\u001b[0m\u001b[0m\n",
            "\u001b[0;31mValueError\u001b[0m: could not broadcast input array from shape (30,) into shape (1,)"
          ]
        }
      ]
    },
    {
      "source": [
        "print(labels.shape)"
      ],
      "cell_type": "code",
      "metadata": {
        "colab": {
          "base_uri": "https://localhost:8080/"
        },
        "id": "mPkmpbWyN9Qg",
        "outputId": "5e34d245-0771-4434-bc07-dfb22a51e35f"
      },
      "execution_count": 31,
      "outputs": [
        {
          "output_type": "stream",
          "name": "stdout",
          "text": [
            "(10, 1)\n"
          ]
        }
      ]
    },
    {
      "source": [
        "# Add a new column to the labels DataFrame with the index 2\n",
        "labels.loc[2] = [[0, 0, 0, 0, 0, 0, 0, 0, 0, 0, 0, 0, 0, 0, 0, 0, 0, 0, 0, 0, 0, 0, 0, 0, 0, 0, 0, 0, 0, 0]]\n",
        "\n",
        "# Get random recipes and labels\n",
        "recipes, lbls = get_random_recipes(features, labels, nr=2)"
      ],
      "cell_type": "code",
      "metadata": {
        "id": "tU5CpUKSOAGN"
      },
      "execution_count": 32,
      "outputs": []
    },
    {
      "source": [
        "print(labels)"
      ],
      "cell_type": "code",
      "metadata": {
        "colab": {
          "base_uri": "https://localhost:8080/"
        },
        "id": "zoRYBsTJOB6D",
        "outputId": "9c7d4bb4-280e-46d3-c35c-35e710631d26"
      },
      "execution_count": 33,
      "outputs": [
        {
          "output_type": "stream",
          "name": "stdout",
          "text": [
            "                                             cuisine\n",
            "0                                            italian\n",
            "1                                            mexican\n",
            "2  [0, 0, 0, 0, 0, 0, 0, 0, 0, 0, 0, 0, 0, 0, 0, ...\n",
            "3                                           american\n",
            "4                                            chinese\n",
            "5                                             french\n",
            "6                                             indian\n",
            "7                                              greek\n",
            "8                                            spanish\n",
            "9                                         vietnamese\n"
          ]
        }
      ]
    },
    {
      "cell_type": "code",
      "execution_count": 35,
      "metadata": {
        "execution": {
          "iopub.execute_input": "2021-01-08T23:17:46.220059Z",
          "iopub.status.busy": "2021-01-08T23:17:46.219443Z",
          "iopub.status.idle": "2021-01-08T23:17:46.253860Z",
          "shell.execute_reply": "2021-01-08T23:17:46.254456Z"
        },
        "papermill": {
          "duration": 0.052981,
          "end_time": "2021-01-08T23:17:46.254581",
          "exception": false,
          "start_time": "2021-01-08T23:17:46.201600",
          "status": "completed"
        },
        "tags": [],
        "id": "qggVhcTsLIzL"
      },
      "outputs": [],
      "source": [
        "freqItemSet, rules, lbls = apriori(recipes, lbls, minSup=0.5, minConf=0.5)"
      ]
    },
    {
      "cell_type": "code",
      "execution_count": 36,
      "metadata": {
        "execution": {
          "iopub.execute_input": "2021-01-08T23:17:46.290199Z",
          "iopub.status.busy": "2021-01-08T23:17:46.289343Z",
          "iopub.status.idle": "2021-01-08T23:17:46.298259Z",
          "shell.execute_reply": "2021-01-08T23:17:46.298888Z"
        },
        "papermill": {
          "duration": 0.028599,
          "end_time": "2021-01-08T23:17:46.299008",
          "exception": false,
          "start_time": "2021-01-08T23:17:46.270409",
          "status": "completed"
        },
        "tags": [],
        "id": "Uyth8iAFLIzM"
      },
      "outputs": [],
      "source": [
        "def find_recipe(ingredients, rules, lbls):\n",
        "    rules_dic = {}\n",
        "    for i, item in enumerate(np.array(rules)[:, :-1]):\n",
        "        item = [list(i) for i in item]\n",
        "        rules_dic[str(item)] = lbls[i]\n",
        "\n",
        "    result = None\n",
        "\n",
        "    try:\n",
        "        result = rules_dic[str(ingredients)]\n",
        "    except:\n",
        "        result = \"Recipe not found\"\n",
        "\n",
        "    return result"
      ]
    },
    {
      "cell_type": "code",
      "execution_count": 37,
      "metadata": {
        "execution": {
          "iopub.execute_input": "2021-01-08T23:17:46.333285Z",
          "iopub.status.busy": "2021-01-08T23:17:46.332688Z",
          "iopub.status.idle": "2021-01-08T23:17:46.359733Z",
          "shell.execute_reply": "2021-01-08T23:17:46.360542Z"
        },
        "papermill": {
          "duration": 0.046048,
          "end_time": "2021-01-08T23:17:46.360763",
          "exception": false,
          "start_time": "2021-01-08T23:17:46.314715",
          "status": "completed"
        },
        "tags": [],
        "colab": {
          "base_uri": "https://localhost:8080/"
        },
        "id": "OMmRK4XLLIzM",
        "outputId": "f15e4b9d-ef97-4c98-a6ae-dac712862a73"
      },
      "outputs": [
        {
          "output_type": "stream",
          "name": "stdout",
          "text": [
            "Try to find recipe using ingredients: 2 and 5\n",
            "Found recipe:  ['mexican']\n"
          ]
        }
      ],
      "source": [
        "print('Try to find recipe using ingredients: {0} and {1}'.format(recipes[0][0], recipes[0][1]))\n",
        "found_recipe = find_recipe([[recipes[0][0]], [recipes[0][1]]], rules, lbls)\n",
        "print('Found recipe: ', found_recipe)"
      ]
    },
    {
      "cell_type": "code",
      "execution_count": 38,
      "metadata": {
        "execution": {
          "iopub.execute_input": "2021-01-08T23:17:46.413770Z",
          "iopub.status.busy": "2021-01-08T23:17:46.412993Z",
          "iopub.status.idle": "2021-01-08T23:17:46.432409Z",
          "shell.execute_reply": "2021-01-08T23:17:46.433253Z"
        },
        "papermill": {
          "duration": 0.047186,
          "end_time": "2021-01-08T23:17:46.433454",
          "exception": false,
          "start_time": "2021-01-08T23:17:46.386268",
          "status": "completed"
        },
        "tags": [],
        "colab": {
          "base_uri": "https://localhost:8080/"
        },
        "id": "7i_HfmICLIzN",
        "outputId": "b7aff8ac-68f2-4ca7-e827-0860eb57479f"
      },
      "outputs": [
        {
          "output_type": "stream",
          "name": "stdout",
          "text": [
            "Testing not finding ingredients\n",
            "Using the following ingredients: vanilla vodka and coconut extract\n",
            "Recipe not found\n"
          ]
        }
      ],
      "source": [
        "ingredients_to_try = [['vanilla vodka'], ['coconut extract']]\n",
        "print('Testing not finding ingredients')\n",
        "print('Using the following ingredients: {0} and {1}'.format(ingredients_to_try[0][0], ingredients_to_try[1][0]))\n",
        "print(find_recipe(ingredients_to_try, rules, lbls))"
      ]
    },
    {
      "cell_type": "markdown",
      "metadata": {
        "papermill": {
          "duration": 0.025064,
          "end_time": "2021-01-08T23:17:46.484819",
          "exception": false,
          "start_time": "2021-01-08T23:17:46.459755",
          "status": "completed"
        },
        "tags": [],
        "id": "tWbqXjyBLIzN"
      },
      "source": [
        "# Conclusion"
      ]
    },
    {
      "cell_type": "markdown",
      "metadata": {
        "papermill": {
          "duration": 0.02517,
          "end_time": "2021-01-08T23:17:46.535450",
          "exception": false,
          "start_time": "2021-01-08T23:17:46.510280",
          "status": "completed"
        },
        "tags": [],
        "id": "WbWlMbPaLIzO"
      },
      "source": [
        "<pre>\n",
        "Apriori algorithm is really useful for data minning.\n",
        "We can use it easily to build an application that given ingredients, gives you the recipe.\n",
        "</pre>"
      ]
    }
  ],
  "metadata": {
    "kernelspec": {
      "display_name": "Python 3",
      "language": "python",
      "name": "python3"
    },
    "language_info": {
      "codemirror_mode": {
        "name": "ipython",
        "version": 3
      },
      "file_extension": ".py",
      "mimetype": "text/x-python",
      "name": "python",
      "nbconvert_exporter": "python",
      "pygments_lexer": "ipython3",
      "version": "3.7.6"
    },
    "papermill": {
      "duration": 22.657695,
      "end_time": "2021-01-08T23:17:46.669253",
      "environment_variables": {},
      "exception": null,
      "input_path": "__notebook__.ipynb",
      "output_path": "__notebook__.ipynb",
      "parameters": {},
      "start_time": "2021-01-08T23:17:24.011558",
      "version": "2.1.0"
    },
    "colab": {
      "provenance": []
    }
  },
  "nbformat": 4,
  "nbformat_minor": 0
}